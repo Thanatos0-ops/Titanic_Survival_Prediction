{
 "cells": [
  {
   "cell_type": "markdown",
   "id": "0ef56d59",
   "metadata": {},
   "source": [
    "Titanic Survival Prediction Using Classification Model\n"
   ]
  },
  {
   "cell_type": "code",
   "execution_count": null,
   "id": "274f8a97",
   "metadata": {},
   "outputs": [],
   "source": [
    "#Importing necessary libaries\n",
    "import pandas as pd\n",
    "im"
   ]
  }
 ],
 "metadata": {
  "language_info": {
   "name": "python"
  }
 },
 "nbformat": 4,
 "nbformat_minor": 5
}
